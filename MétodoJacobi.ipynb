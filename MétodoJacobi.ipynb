{
  "nbformat": 4,
  "nbformat_minor": 0,
  "metadata": {
    "colab": {
      "provenance": [],
      "authorship_tag": "ABX9TyMqy9Xeg0Kmu9lhNB4X1uA/",
      "include_colab_link": true
    },
    "kernelspec": {
      "name": "python3",
      "display_name": "Python 3"
    },
    "language_info": {
      "name": "python"
    }
  },
  "cells": [
    {
      "cell_type": "markdown",
      "metadata": {
        "id": "view-in-github",
        "colab_type": "text"
      },
      "source": [
        "<a href=\"https://colab.research.google.com/github/Ximenaloranca/Ecuaciones-Diferenciales-Parciales-/blob/main/M%C3%A9todoJacobi.ipynb\" target=\"_parent\"><img src=\"https://colab.research.google.com/assets/colab-badge.svg\" alt=\"Open In Colab\"/></a>"
      ]
    },
    {
      "cell_type": "code",
      "execution_count": 4,
      "metadata": {
        "id": "Mk3Y2UnDiQnt"
      },
      "outputs": [],
      "source": [
        "def jacobi(A,b,x0,tol,n):\n",
        "  D=np.diag(np.diag(A))\n",
        "  LU=A-D\n",
        "  x=x0\n",
        "  for i in range (n):\n",
        "    D_inv=np.linalg.inv(D)\n",
        "    xtemp=x\n",
        "    x=np.dot(D_inv,np.dot(-LU,x))+np.dot(D_inv,b)\n",
        "    print(\"iteracion\",i,\": x = \",x)\n",
        "    if np.linalg.norm(x-xtemp)<tol:\n",
        "      return x\n",
        "  return x"
      ]
    },
    {
      "cell_type": "code",
      "source": [
        "import numpy as np\n",
        "A = np.array([\n",
        "    [4, -1, -1, 0],\n",
        "    [-1, 4, 0, -1],\n",
        "    [-1, 0, 4, -1],\n",
        "    [0, -1, -1, 4]\n",
        "])\n",
        "b = ([0, 2/3, 8/9, 14/9])\n",
        "x0 = np.array([7/27, 7/27, 7/27, 7/27])\n",
        "tol = 1e-3\n",
        "n = 500\n",
        "x = jacobi(A,b,x0,tol,n)"
      ],
      "metadata": {
        "colab": {
          "base_uri": "https://localhost:8080/"
        },
        "id": "JuT2ldjMkqZ3",
        "outputId": "c0a13c1a-5a0f-4013-b1a8-0d5959edddbc"
      },
      "execution_count": 8,
      "outputs": [
        {
          "output_type": "stream",
          "name": "stdout",
          "text": [
            "iteracion 0 : x =  [0.12962963 0.2962963  0.35185185 0.51851852]\n",
            "iteracion 1 : x =  [0.16203704 0.3287037  0.38425926 0.55092593]\n",
            "iteracion 2 : x =  [0.17824074 0.34490741 0.40046296 0.56712963]\n",
            "iteracion 3 : x =  [0.18634259 0.35300926 0.40856481 0.57523148]\n",
            "iteracion 4 : x =  [0.19039352 0.35706019 0.41261574 0.57928241]\n",
            "iteracion 5 : x =  [0.19241898 0.35908565 0.4146412  0.58130787]\n",
            "iteracion 6 : x =  [0.19343171 0.36009838 0.41565394 0.5823206 ]\n",
            "iteracion 7 : x =  [0.19393808 0.36060475 0.4161603  0.58282697]\n",
            "iteracion 8 : x =  [0.19419126 0.36085793 0.41641348 0.58308015]\n"
          ]
        }
      ]
    }
  ]
}