{
  "nbformat": 4,
  "nbformat_minor": 0,
  "metadata": {
    "colab": {
      "provenance": [],
      "authorship_tag": "ABX9TyMfDjvhtcmRmZ+NI9qtBXNi",
      "include_colab_link": true
    },
    "kernelspec": {
      "name": "python3",
      "display_name": "Python 3"
    },
    "language_info": {
      "name": "python"
    }
  },
  "cells": [
    {
      "cell_type": "markdown",
      "metadata": {
        "id": "view-in-github",
        "colab_type": "text"
      },
      "source": [
        "<a href=\"https://colab.research.google.com/github/Ximenaloranca/Ecuaciones-Diferenciales-Parciales-/blob/main/M%C3%A9todoJacobi.ipynb\" target=\"_parent\"><img src=\"https://colab.research.google.com/assets/colab-badge.svg\" alt=\"Open In Colab\"/></a>"
      ]
    },
    {
      "cell_type": "markdown",
      "source": [
        "# **Método de Jacobi**\n",
        "\n",
        "En esta primera parte, podemos ver el método de iteración de Jacobi en su forma general, que al converger se acercan a una solución exacta."
      ],
      "metadata": {
        "id": "CwwtCCLy51gO"
      }
    },
    {
      "cell_type": "code",
      "execution_count": 2,
      "metadata": {
        "id": "Mk3Y2UnDiQnt"
      },
      "outputs": [],
      "source": [
        "def jacobi(A,b,x0,tol,n): # Es la función que contiene a la matriz del sistema, el vector con los valores que van del lado derecho, el vector inicial, la tolerancia y el número de iteraciones\n",
        "  D=np.diag(np.diag(A)) # Contiene a la matriz diagonal\n",
        "  LU=A-D # Es la matriz A pero sin su diagonal\n",
        "  x=x0 # Aproximación actualizada\n",
        "  for i in range (n):\n",
        "    D_inv=np.linalg.inv(D) # Inversa de la diagonal\n",
        "    xtemp=x # Guarda las aproximaciones anteriores\n",
        "    x=np.dot(D_inv,np.dot(-LU,x))+np.dot(D_inv,b)\n",
        "    print(\"iteracion\",i,\": x = \",x)\n",
        "    if np.linalg.norm(x-xtemp)<tol:\n",
        "      return x\n",
        "  return x"
      ]
    },
    {
      "cell_type": "markdown",
      "source": [],
      "metadata": {
        "id": "X5fNa0yj6jzP"
      }
    },
    {
      "cell_type": "markdown",
      "source": [
        "En esta segunda parte lo único que se hace es darle valores a las matrices del sistema de ecuaciones para que llegue al resultado"
      ],
      "metadata": {
        "id": "IgBjGPs-6j0g"
      }
    },
    {
      "cell_type": "code",
      "source": [
        "import numpy as np\n",
        "A = np.array([\n",
        "    [4, -1, -1, 0],\n",
        "    [-1, 4, 0, -1],\n",
        "    [-1, 0, 4, -1],\n",
        "    [0, -1, -1, 4]\n",
        "])\n",
        "b = np.array([0, 2/3, 8/9, 14/9]) # Le damos los valores\n",
        "perm = [0, 2, 1, 3]   # Cambiamos filas y columnas de A y reordenamos a b porque vi que se intercambiaban los valores de las variables al final, entonces cambie el orden para que salgan correctos como en el ejercicio de la clase\n",
        "\n",
        "A = A[np.ix_(perm, perm)]\n",
        "b = b[perm] # (Cambios de orden)\n",
        "x0 = np.array([7/27, 7/27, 7/27, 7/27]) # Valores iniciales\n",
        "tol = 1e-3 # Tolerancia\n",
        "n = 500 # Máximo de iteraciones\n",
        "x = jacobi(A,b,x0,tol,n)"
      ],
      "metadata": {
        "colab": {
          "base_uri": "https://localhost:8080/"
        },
        "id": "JuT2ldjMkqZ3",
        "outputId": "9b0e3f30-7ed5-4f34-9f75-a84561f0d471"
      },
      "execution_count": 7,
      "outputs": [
        {
          "output_type": "stream",
          "name": "stdout",
          "text": [
            "iteracion 0 : x =  [0.12962963 0.35185185 0.2962963  0.51851852]\n",
            "iteracion 1 : x =  [0.16203704 0.38425926 0.3287037  0.55092593]\n",
            "iteracion 2 : x =  [0.17824074 0.40046296 0.34490741 0.56712963]\n",
            "iteracion 3 : x =  [0.18634259 0.40856481 0.35300926 0.57523148]\n",
            "iteracion 4 : x =  [0.19039352 0.41261574 0.35706019 0.57928241]\n",
            "iteracion 5 : x =  [0.19241898 0.4146412  0.35908565 0.58130787]\n",
            "iteracion 6 : x =  [0.19343171 0.41565394 0.36009838 0.5823206 ]\n",
            "iteracion 7 : x =  [0.19393808 0.4161603  0.36060475 0.58282697]\n",
            "iteracion 8 : x =  [0.19419126 0.41641348 0.36085793 0.58308015]\n"
          ]
        }
      ]
    }
  ]
}