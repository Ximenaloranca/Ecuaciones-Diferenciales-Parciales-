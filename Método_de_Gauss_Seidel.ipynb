{
  "nbformat": 4,
  "nbformat_minor": 0,
  "metadata": {
    "colab": {
      "provenance": [],
      "authorship_tag": "ABX9TyMw4cqFBv8DvZ2QOxY67a/m",
      "include_colab_link": true
    },
    "kernelspec": {
      "name": "python3",
      "display_name": "Python 3"
    },
    "language_info": {
      "name": "python"
    }
  },
  "cells": [
    {
      "cell_type": "markdown",
      "metadata": {
        "id": "view-in-github",
        "colab_type": "text"
      },
      "source": [
        "<a href=\"https://colab.research.google.com/github/Ximenaloranca/Ecuaciones-Diferenciales-Parciales-/blob/main/M%C3%A9todo_de_Gauss_Seidel.ipynb\" target=\"_parent\"><img src=\"https://colab.research.google.com/assets/colab-badge.svg\" alt=\"Open In Colab\"/></a>"
      ]
    },
    {
      "cell_type": "markdown",
      "source": [
        "# **Método de Gauss-Seidel**\n",
        "En este rpograma podemos ver la solución del sistema de ecuaciones. Cada iteración mejora la aproximación usando los valores recién calculados.\n",
        "\n"
      ],
      "metadata": {
        "id": "QffRU0bl6Yoq"
      }
    },
    {
      "cell_type": "code",
      "execution_count": 3,
      "metadata": {
        "colab": {
          "base_uri": "https://localhost:8080/"
        },
        "id": "KrulKv7O4Vp5",
        "outputId": "f7adbbe3-f782-4e6a-db1a-b895e387399d"
      },
      "outputs": [
        {
          "output_type": "stream",
          "name": "stdout",
          "text": [
            "Iteración 0: x = [0.12962963 0.31944444 0.26388889 0.53472222]\n",
            "Iteración 1: x = [0.14583333 0.39236111 0.33680556 0.57118056]\n",
            "Iteración 2: x = [0.18229167 0.41059028 0.35503472 0.58029514]\n",
            "Iteración 3: x = [0.19140625 0.41514757 0.35959201 0.58257378]\n",
            "Iteración 4: x = [0.1936849  0.41628689 0.36073134 0.58314345]\n",
            "Iteración 5: x = [0.19425456 0.41657172 0.36101617 0.58328586]\n",
            "Convergencia alcanzada en la iteración 5\n",
            "\n",
            "Solución aproximada: [0.19425456 0.41657172 0.36101617 0.58328586]\n"
          ]
        }
      ],
      "source": [
        "import numpy as np\n",
        "\n",
        "def gauss_seidel(A, b, x0, tol, n): # Es la función que contiene a la matriz, el vector que está del lado derecho, el vector inicial, la tolerancia y el número de iteraciones\n",
        "    x = x0.copy() # Usamos la copia del vector inicial para que no se modifique el vector original\n",
        "    m = len(b) # Número de filas y columnas\n",
        "\n",
        "    for k in range(n): # Empezamos con el bucle para las iteraciones\n",
        "        xtemp = x.copy()\n",
        "        for i in range(m):  # Este bucle actualiza cada componente, es practicamente el metodo ya de Gauss\n",
        "            # suma sobre los j ≠ i\n",
        "            suma1 = np.dot(A[i, :i], x[:i])       # usa valores que ya están actualizados\n",
        "            suma2 = np.dot(A[i, i+1:], xtemp[i+1:]) # usa valores de la iteración anterior\n",
        "            x[i] = (b[i] - suma1 - suma2) / A[i, i]\n",
        "\n",
        "        print(f\"Iteración {k}: x = {x}\")\n",
        "\n",
        "        # criterio para que el programa se detenga con las condiciones del método de Gauss, para que no se haga infinitamente\n",
        "        if np.linalg.norm(x - xtemp, ord=np.inf) < tol:\n",
        "            print(\"Convergencia alcanzada en la iteración\", k)\n",
        "            return x\n",
        "    return x\n",
        "\n",
        "\n",
        "# En esta parte ya le damos los valores del ejercicio para que solo se resuelva\n",
        "A = np.array([\n",
        "    [4, -1, -1, 0],\n",
        "    [-1, 4, 0, -1],\n",
        "    [-1, 0, 4, -1],\n",
        "    [0, -1, -1, 4]\n",
        "], dtype=float)\n",
        "\n",
        "b = np.array([0, 2/3, 8/9, 14/9], dtype=float)\n",
        "\n",
        "# El cambio de columnas para que el código tenga el orden de las variables que vimos y no estén en otross lugares\n",
        "perm = [0, 2, 1, 3]\n",
        "A = A[np.ix_(perm, perm)]\n",
        "b = b[perm]\n",
        "\n",
        "# Nuestro vector inicial\n",
        "x0 = np.array([7/27, 7/27, 7/27, 7/27], dtype=float)\n",
        "\n",
        "tol = 1e-3\n",
        "n = 500\n",
        "\n",
        "# Ya el uso del método de Gauss–Seidel\n",
        "x = gauss_seidel(A, b, x0, tol, n)\n",
        "\n",
        "print(\"\\nSolución aproximada:\", x)\n"
      ]
    }
  ]
}